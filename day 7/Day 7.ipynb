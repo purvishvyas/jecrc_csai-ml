{
 "cells": [
  {
   "cell_type": "markdown",
   "id": "0fbebf3e-768d-4f56-a2bb-a8cf52958da2",
   "metadata": {},
   "source": [
    "3+8"
   ]
  },
  {
   "cell_type": "code",
   "execution_count": 1,
   "id": "44bde9c0-8cd6-418d-8829-f99912297fbb",
   "metadata": {},
   "outputs": [
    {
     "data": {
      "text/plain": [
       "11"
      ]
     },
     "execution_count": 1,
     "metadata": {},
     "output_type": "execute_result"
    }
   ],
   "source": [
    "3+8"
   ]
  },
  {
   "cell_type": "markdown",
   "id": "d1f9b6d6-ba9a-4254-b658-a24117b36f25",
   "metadata": {},
   "source": [
    "\n",
    " print('welcome to machine learning')\n",
    " \n"
   ]
  },
  {
   "cell_type": "code",
   "execution_count": null,
   "id": "288245ad-2a90-49b7-8a96-d0645fe85abb",
   "metadata": {},
   "outputs": [],
   "source": []
  },
  {
   "cell_type": "code",
   "execution_count": 4,
   "id": "eb2dbc79-4a28-4bcd-808f-abc7aa7caa47",
   "metadata": {},
   "outputs": [
    {
     "name": "stdout",
     "output_type": "stream",
     "text": [
      "welcome bro\n"
     ]
    }
   ],
   "source": [
    "print('welcome bro')"
   ]
  },
  {
   "cell_type": "markdown",
   "id": "42ade2a9-075d-41bb-9854-67961714ad48",
   "metadata": {},
   "source": [
    "# 1st heading"
   ]
  },
  {
   "cell_type": "markdown",
   "id": "ccad01cb-9dbf-469f-9ce2-b25689a46f7c",
   "metadata": {},
   "source": [
    "## 2nd heading"
   ]
  },
  {
   "cell_type": "markdown",
   "id": "89aca453-29a9-424a-ad5e-2c4cf5159119",
   "metadata": {},
   "source": [
    "### Sub heading"
   ]
  },
  {
   "cell_type": "markdown",
   "id": "d0f67367-c7a8-4b0e-97c9-11af492d8b68",
   "metadata": {},
   "source": [
    "* this is first point"
   ]
  },
  {
   "cell_type": "markdown",
   "id": "0a68daf2-10da-434b-a8e1-d8b3a4779f41",
   "metadata": {},
   "source": [
    "** this is second point"
   ]
  },
  {
   "cell_type": "markdown",
   "id": "eb64a3e7-f247-4e9e-9fad-95dc41c9c16d",
   "metadata": {},
   "source": [
    "* this is second point"
   ]
  },
  {
   "cell_type": "code",
   "execution_count": 5,
   "id": "90becfd7-9227-4393-8623-964afb46c791",
   "metadata": {},
   "outputs": [
    {
     "ename": "SyntaxError",
     "evalue": "invalid syntax (2018931082.py, line 1)",
     "output_type": "error",
     "traceback": [
      "\u001b[1;36m  Input \u001b[1;32mIn [5]\u001b[1;36m\u001b[0m\n\u001b[1;33m    1. hemlo\u001b[0m\n\u001b[1;37m       ^\u001b[0m\n\u001b[1;31mSyntaxError\u001b[0m\u001b[1;31m:\u001b[0m invalid syntax\n"
     ]
    }
   ],
   "source": [
    "1. hemlo"
   ]
  },
  {
   "cell_type": "markdown",
   "id": "f03d75d4-5529-46b3-97ca-d03cf9bf6c13",
   "metadata": {},
   "source": [
    "1. Hemlo\n",
    "2. Guys\n"
   ]
  },
  {
   "cell_type": "code",
   "execution_count": 6,
   "id": "894b99ad-3d29-473e-9d9a-3fc762d39ef3",
   "metadata": {},
   "outputs": [],
   "source": [
    "import os\n"
   ]
  },
  {
   "cell_type": "code",
   "execution_count": 7,
   "id": "34107cbe-d777-49f9-832e-0096f1d1ea98",
   "metadata": {},
   "outputs": [
    {
     "data": {
      "text/plain": [
       "'C:\\\\Users\\\\hp\\\\OneDrive\\\\Desktop\\\\Python for ML\\\\day 7'"
      ]
     },
     "execution_count": 7,
     "metadata": {},
     "output_type": "execute_result"
    }
   ],
   "source": [
    "os.getcwd()"
   ]
  },
  {
   "cell_type": "code",
   "execution_count": 8,
   "id": "473c628e-2c99-4170-b67c-22b2101903c9",
   "metadata": {},
   "outputs": [],
   "source": [
    "os.chdir('C:\\\\Users\\\\hp\\\\OneDrive\\\\Desktop\\\\Python for ML\\\\day 7'\n",
    ")"
   ]
  },
  {
   "cell_type": "code",
   "execution_count": 9,
   "id": "b9656f8b-cd71-4a2a-9776-e792568adac5",
   "metadata": {},
   "outputs": [
    {
     "data": {
      "text/plain": [
       "'C:\\\\Users\\\\hp\\\\OneDrive\\\\Desktop\\\\Python for ML\\\\day 7'"
      ]
     },
     "execution_count": 9,
     "metadata": {},
     "output_type": "execute_result"
    }
   ],
   "source": [
    "os.getcwd()"
   ]
  },
  {
   "cell_type": "code",
   "execution_count": 11,
   "id": "fee498ce-15d8-4b87-864e-46eff27aae36",
   "metadata": {},
   "outputs": [
    {
     "data": {
      "text/plain": [
       "['.ipynb_checkpoints', 'Day 7.ipynb']"
      ]
     },
     "execution_count": 11,
     "metadata": {},
     "output_type": "execute_result"
    }
   ],
   "source": [
    "os.listdir('C:\\\\Users\\\\hp\\\\OneDrive\\\\Desktop\\\\Python for ML\\\\day 7')\n",
    "\n"
   ]
  },
  {
   "cell_type": "code",
   "execution_count": 12,
   "id": "878b5116-0e3a-4194-9e56-84eff81c812f",
   "metadata": {},
   "outputs": [
    {
     "ename": "AttributeError",
     "evalue": "module 'os' has no attribute 'kkdir'",
     "output_type": "error",
     "traceback": [
      "\u001b[1;31m---------------------------------------------------------------------------\u001b[0m",
      "\u001b[1;31mAttributeError\u001b[0m                            Traceback (most recent call last)",
      "Input \u001b[1;32mIn [12]\u001b[0m, in \u001b[0;36m<cell line: 2>\u001b[1;34m()\u001b[0m\n\u001b[0;32m      1\u001b[0m \u001b[38;5;66;03m#to make a folder\u001b[39;00m\n\u001b[1;32m----> 2\u001b[0m \u001b[43mos\u001b[49m\u001b[38;5;241;43m.\u001b[39;49m\u001b[43mkkdir\u001b[49m(\u001b[38;5;124m'\u001b[39m\u001b[38;5;124mEmpty_Folder\u001b[39m\u001b[38;5;124m'\u001b[39m)\n",
      "\u001b[1;31mAttributeError\u001b[0m: module 'os' has no attribute 'kkdir'"
     ]
    }
   ],
   "source": [
    "#to make a folder\n",
    "os.kkdir('Empty_Folder')"
   ]
  },
  {
   "cell_type": "code",
   "execution_count": 13,
   "id": "15d2232a-7f40-4037-b5bb-cb6c924f996e",
   "metadata": {},
   "outputs": [
    {
     "ename": "FileNotFoundError",
     "evalue": "[WinError 2] The system cannot find the file specified: 'Empty_Folder'",
     "output_type": "error",
     "traceback": [
      "\u001b[1;31m---------------------------------------------------------------------------\u001b[0m",
      "\u001b[1;31mFileNotFoundError\u001b[0m                         Traceback (most recent call last)",
      "Input \u001b[1;32mIn [13]\u001b[0m, in \u001b[0;36m<cell line: 2>\u001b[1;34m()\u001b[0m\n\u001b[0;32m      1\u001b[0m \u001b[38;5;66;03m#To remove a folder\u001b[39;00m\n\u001b[1;32m----> 2\u001b[0m \u001b[43mos\u001b[49m\u001b[38;5;241;43m.\u001b[39;49m\u001b[43mrmdir\u001b[49m\u001b[43m(\u001b[49m\u001b[38;5;124;43m'\u001b[39;49m\u001b[38;5;124;43mEmpty_Folder\u001b[39;49m\u001b[38;5;124;43m'\u001b[39;49m\u001b[43m)\u001b[49m\n",
      "\u001b[1;31mFileNotFoundError\u001b[0m: [WinError 2] The system cannot find the file specified: 'Empty_Folder'"
     ]
    }
   ],
   "source": [
    "#To remove a folder\n",
    "os.rmdir('Empty_Folder')"
   ]
  },
  {
   "cell_type": "markdown",
   "id": "37f5a7ea-b359-4144-9acd-55d9a2a37c75",
   "metadata": {},
   "source": [
    "#Random"
   ]
  },
  {
   "cell_type": "markdown",
   "id": "6ff0d4b2-baf1-4589-a22c-716280324287",
   "metadata": {},
   "source": [
    "# Random"
   ]
  },
  {
   "cell_type": "code",
   "execution_count": 14,
   "id": "1d2be09c-b438-4520-9c0b-35f08b34f28a",
   "metadata": {},
   "outputs": [],
   "source": [
    "import random"
   ]
  },
  {
   "cell_type": "code",
   "execution_count": 15,
   "id": "81cefc2a-dea4-43e0-9b05-34ccb9120269",
   "metadata": {},
   "outputs": [
    {
     "name": "stdout",
     "output_type": "stream",
     "text": [
      "0.23642921401488393\n"
     ]
    }
   ],
   "source": [
    "val= random.random()\n",
    "print(val)"
   ]
  },
  {
   "cell_type": "code",
   "execution_count": 16,
   "id": "571d171d-e934-4458-8291-8f5191827f32",
   "metadata": {},
   "outputs": [],
   "source": [
    "val2 = random.randint(1,10)"
   ]
  },
  {
   "cell_type": "code",
   "execution_count": 17,
   "id": "c4ab7aa8-ed98-496d-b153-885b9ba27d47",
   "metadata": {},
   "outputs": [
    {
     "name": "stdout",
     "output_type": "stream",
     "text": [
      "8\n"
     ]
    }
   ],
   "source": [
    "print(val2)"
   ]
  },
  {
   "cell_type": "code",
   "execution_count": 18,
   "id": "852e61a9-e9fe-41b4-a87e-604af41cf890",
   "metadata": {},
   "outputs": [
    {
     "name": "stdout",
     "output_type": "stream",
     "text": [
      "howdy\n"
     ]
    }
   ],
   "source": [
    "m=['hi','hello','hayy','howdy']\n",
    "val = random.choice(m)\n",
    "print(val)"
   ]
  },
  {
   "cell_type": "code",
   "execution_count": 19,
   "id": "ca862b39-d20d-4c54-b399-f48f32563f3d",
   "metadata": {},
   "outputs": [
    {
     "ename": "TypeError",
     "evalue": "choice() got an unexpected keyword argument 'k'",
     "output_type": "error",
     "traceback": [
      "\u001b[1;31m---------------------------------------------------------------------------\u001b[0m",
      "\u001b[1;31mTypeError\u001b[0m                                 Traceback (most recent call last)",
      "Input \u001b[1;32mIn [19]\u001b[0m, in \u001b[0;36m<cell line: 2>\u001b[1;34m()\u001b[0m\n\u001b[0;32m      1\u001b[0m m\u001b[38;5;241m=\u001b[39m[\u001b[38;5;124m'\u001b[39m\u001b[38;5;124mhi\u001b[39m\u001b[38;5;124m'\u001b[39m,\u001b[38;5;124m'\u001b[39m\u001b[38;5;124mhello\u001b[39m\u001b[38;5;124m'\u001b[39m,\u001b[38;5;124m'\u001b[39m\u001b[38;5;124mhayy\u001b[39m\u001b[38;5;124m'\u001b[39m,\u001b[38;5;124m'\u001b[39m\u001b[38;5;124mhowdy\u001b[39m\u001b[38;5;124m'\u001b[39m]\n\u001b[1;32m----> 2\u001b[0m val \u001b[38;5;241m=\u001b[39m \u001b[43mrandom\u001b[49m\u001b[38;5;241;43m.\u001b[39;49m\u001b[43mchoice\u001b[49m\u001b[43m(\u001b[49m\u001b[43mm\u001b[49m\u001b[43m,\u001b[49m\u001b[43mk\u001b[49m\u001b[38;5;241;43m=\u001b[39;49m\u001b[38;5;241;43m2\u001b[39;49m\u001b[43m)\u001b[49m\n\u001b[0;32m      3\u001b[0m \u001b[38;5;28mprint\u001b[39m(val)\n",
      "\u001b[1;31mTypeError\u001b[0m: choice() got an unexpected keyword argument 'k'"
     ]
    }
   ],
   "source": [
    "m=['hi','hello','hayy','howdy']\n",
    "val = random.choice(m,k=2)\n",
    "print(val)"
   ]
  },
  {
   "cell_type": "code",
   "execution_count": 20,
   "id": "094e8f93-cb43-4e55-9ac1-53cb9f9f8c68",
   "metadata": {},
   "outputs": [
    {
     "name": "stdout",
     "output_type": "stream",
     "text": [
      "['hi']\n"
     ]
    }
   ],
   "source": [
    "m=['hi','hello','hayy','howdy']\n",
    "val = random.choices(m)\n",
    "print(val)"
   ]
  },
  {
   "cell_type": "code",
   "execution_count": 21,
   "id": "3cc09f2c-2a0c-4cfa-bff6-f7b3a402692d",
   "metadata": {},
   "outputs": [
    {
     "name": "stdout",
     "output_type": "stream",
     "text": [
      "['howdy', 'hello']\n"
     ]
    }
   ],
   "source": [
    "m=['hi','hello','hayy','howdy']\n",
    "val = random.choices(m,k=2)\n",
    "print(val)"
   ]
  },
  {
   "cell_type": "code",
   "execution_count": 22,
   "id": "ac1b5fa7-cba1-41a2-b596-3837908d7576",
   "metadata": {},
   "outputs": [
    {
     "name": "stdout",
     "output_type": "stream",
     "text": [
      "['hello', 'hi', 'howdy', 'hayy']\n"
     ]
    }
   ],
   "source": [
    "#shuffle\n",
    "random.shuffle(m)\n",
    "print(m)"
   ]
  },
  {
   "cell_type": "code",
   "execution_count": null,
   "id": "eadda7de-4490-4842-9659-5b86d541f9e3",
   "metadata": {},
   "outputs": [],
   "source": []
  }
 ],
 "metadata": {
  "kernelspec": {
   "display_name": "Python 3 (ipykernel)",
   "language": "python",
   "name": "python3"
  },
  "language_info": {
   "codemirror_mode": {
    "name": "ipython",
    "version": 3
   },
   "file_extension": ".py",
   "mimetype": "text/x-python",
   "name": "python",
   "nbconvert_exporter": "python",
   "pygments_lexer": "ipython3",
   "version": "3.9.12"
  }
 },
 "nbformat": 4,
 "nbformat_minor": 5
}
